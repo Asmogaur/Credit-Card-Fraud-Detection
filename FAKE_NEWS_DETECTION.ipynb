{
  "nbformat": 4,
  "nbformat_minor": 0,
  "metadata": {
    "colab": {
      "name": "FAKE NEWS DETECTION.ipynb",
      "provenance": [],
      "authorship_tag": "ABX9TyN19OM1qxc3RodSSYeVi1tw",
      "include_colab_link": true
    },
    "kernelspec": {
      "name": "python3",
      "display_name": "Python 3"
    },
    "language_info": {
      "name": "python"
    }
  },
  "cells": [
    {
      "cell_type": "markdown",
      "metadata": {
        "id": "view-in-github",
        "colab_type": "text"
      },
      "source": [
        "<a href=\"https://colab.research.google.com/github/Dhairya511/Credit-Card-Fraud-Detection/blob/main/FAKE_NEWS_DETECTION.ipynb\" target=\"_parent\"><img src=\"https://colab.research.google.com/assets/colab-badge.svg\" alt=\"Open In Colab\"/></a>"
      ]
    },
    {
      "cell_type": "code",
      "metadata": {
        "id": "aPLfpVV_iEWI"
      },
      "source": [
        "import pandas as pd\n",
        "import numpy as np"
      ],
      "execution_count": 1,
      "outputs": []
    },
    {
      "cell_type": "code",
      "metadata": {
        "id": "aBca2KRvpa7-"
      },
      "source": [
        "truenews = pd.read_csv('/DATASET-FAKE.csv')\n",
        "fakenews = pd.read_csv('/DATASET-TRUE.csv')"
      ],
      "execution_count": 2,
      "outputs": []
    },
    {
      "cell_type": "code",
      "metadata": {
        "id": "oi4pHWqdp13h",
        "colab": {
          "base_uri": "https://localhost:8080/",
          "height": 286
        },
        "outputId": "e6704284-9c68-4a7f-dfc9-a64e2c9c0501"
      },
      "source": [
        "fakenews.head()"
      ],
      "execution_count": 3,
      "outputs": [
        {
          "output_type": "execute_result",
          "data": {
            "text/html": [
              "<div>\n",
              "<style scoped>\n",
              "    .dataframe tbody tr th:only-of-type {\n",
              "        vertical-align: middle;\n",
              "    }\n",
              "\n",
              "    .dataframe tbody tr th {\n",
              "        vertical-align: top;\n",
              "    }\n",
              "\n",
              "    .dataframe thead th {\n",
              "        text-align: right;\n",
              "    }\n",
              "</style>\n",
              "<table border=\"1\" class=\"dataframe\">\n",
              "  <thead>\n",
              "    <tr style=\"text-align: right;\">\n",
              "      <th></th>\n",
              "      <th>title</th>\n",
              "      <th>text</th>\n",
              "      <th>subject</th>\n",
              "      <th>date</th>\n",
              "    </tr>\n",
              "  </thead>\n",
              "  <tbody>\n",
              "    <tr>\n",
              "      <th>0</th>\n",
              "      <td>As U.S. budget fight looms, Republicans flip t...</td>\n",
              "      <td>WASHINGTON (Reuters) - The head of a conservat...</td>\n",
              "      <td>politicsNews</td>\n",
              "      <td>December 31, 2017</td>\n",
              "    </tr>\n",
              "    <tr>\n",
              "      <th>1</th>\n",
              "      <td>U.S. military to accept transgender recruits o...</td>\n",
              "      <td>WASHINGTON (Reuters) - Transgender people will...</td>\n",
              "      <td>politicsNews</td>\n",
              "      <td>December 29, 2017</td>\n",
              "    </tr>\n",
              "    <tr>\n",
              "      <th>2</th>\n",
              "      <td>Senior U.S. Republican senator: 'Let Mr. Muell...</td>\n",
              "      <td>WASHINGTON (Reuters) - The special counsel inv...</td>\n",
              "      <td>politicsNews</td>\n",
              "      <td>December 31, 2017</td>\n",
              "    </tr>\n",
              "    <tr>\n",
              "      <th>3</th>\n",
              "      <td>FBI Russia probe helped by Australian diplomat...</td>\n",
              "      <td>WASHINGTON (Reuters) - Trump campaign adviser ...</td>\n",
              "      <td>politicsNews</td>\n",
              "      <td>December 30, 2017</td>\n",
              "    </tr>\n",
              "    <tr>\n",
              "      <th>4</th>\n",
              "      <td>Trump wants Postal Service to charge 'much mor...</td>\n",
              "      <td>SEATTLE/WASHINGTON (Reuters) - President Donal...</td>\n",
              "      <td>politicsNews</td>\n",
              "      <td>December 29, 2017</td>\n",
              "    </tr>\n",
              "  </tbody>\n",
              "</table>\n",
              "</div>"
            ],
            "text/plain": [
              "                                               title  ...                date\n",
              "0  As U.S. budget fight looms, Republicans flip t...  ...  December 31, 2017 \n",
              "1  U.S. military to accept transgender recruits o...  ...  December 29, 2017 \n",
              "2  Senior U.S. Republican senator: 'Let Mr. Muell...  ...  December 31, 2017 \n",
              "3  FBI Russia probe helped by Australian diplomat...  ...  December 30, 2017 \n",
              "4  Trump wants Postal Service to charge 'much mor...  ...  December 29, 2017 \n",
              "\n",
              "[5 rows x 4 columns]"
            ]
          },
          "metadata": {
            "tags": []
          },
          "execution_count": 3
        }
      ]
    },
    {
      "cell_type": "code",
      "metadata": {
        "colab": {
          "base_uri": "https://localhost:8080/",
          "height": 286
        },
        "id": "yURqPfJWp69V",
        "outputId": "147e4417-74a1-4d10-e932-beca33f5bf49"
      },
      "source": [
        "\n",
        "truenews.head()"
      ],
      "execution_count": 4,
      "outputs": [
        {
          "output_type": "execute_result",
          "data": {
            "text/html": [
              "<div>\n",
              "<style scoped>\n",
              "    .dataframe tbody tr th:only-of-type {\n",
              "        vertical-align: middle;\n",
              "    }\n",
              "\n",
              "    .dataframe tbody tr th {\n",
              "        vertical-align: top;\n",
              "    }\n",
              "\n",
              "    .dataframe thead th {\n",
              "        text-align: right;\n",
              "    }\n",
              "</style>\n",
              "<table border=\"1\" class=\"dataframe\">\n",
              "  <thead>\n",
              "    <tr style=\"text-align: right;\">\n",
              "      <th></th>\n",
              "      <th>title</th>\n",
              "      <th>text</th>\n",
              "      <th>subject</th>\n",
              "      <th>date</th>\n",
              "    </tr>\n",
              "  </thead>\n",
              "  <tbody>\n",
              "    <tr>\n",
              "      <th>0</th>\n",
              "      <td>Donald Trump Sends Out Embarrassing New Year’...</td>\n",
              "      <td>Donald Trump just couldn t wish all Americans ...</td>\n",
              "      <td>News</td>\n",
              "      <td>December 31, 2017</td>\n",
              "    </tr>\n",
              "    <tr>\n",
              "      <th>1</th>\n",
              "      <td>Drunk Bragging Trump Staffer Started Russian ...</td>\n",
              "      <td>House Intelligence Committee Chairman Devin Nu...</td>\n",
              "      <td>News</td>\n",
              "      <td>December 31, 2017</td>\n",
              "    </tr>\n",
              "    <tr>\n",
              "      <th>2</th>\n",
              "      <td>Sheriff David Clarke Becomes An Internet Joke...</td>\n",
              "      <td>On Friday, it was revealed that former Milwauk...</td>\n",
              "      <td>News</td>\n",
              "      <td>December 30, 2017</td>\n",
              "    </tr>\n",
              "    <tr>\n",
              "      <th>3</th>\n",
              "      <td>Trump Is So Obsessed He Even Has Obama’s Name...</td>\n",
              "      <td>On Christmas day, Donald Trump announced that ...</td>\n",
              "      <td>News</td>\n",
              "      <td>December 29, 2017</td>\n",
              "    </tr>\n",
              "    <tr>\n",
              "      <th>4</th>\n",
              "      <td>Pope Francis Just Called Out Donald Trump Dur...</td>\n",
              "      <td>Pope Francis used his annual Christmas Day mes...</td>\n",
              "      <td>News</td>\n",
              "      <td>December 25, 2017</td>\n",
              "    </tr>\n",
              "  </tbody>\n",
              "</table>\n",
              "</div>"
            ],
            "text/plain": [
              "                                               title  ...               date\n",
              "0   Donald Trump Sends Out Embarrassing New Year’...  ...  December 31, 2017\n",
              "1   Drunk Bragging Trump Staffer Started Russian ...  ...  December 31, 2017\n",
              "2   Sheriff David Clarke Becomes An Internet Joke...  ...  December 30, 2017\n",
              "3   Trump Is So Obsessed He Even Has Obama’s Name...  ...  December 29, 2017\n",
              "4   Pope Francis Just Called Out Donald Trump Dur...  ...  December 25, 2017\n",
              "\n",
              "[5 rows x 4 columns]"
            ]
          },
          "metadata": {
            "tags": []
          },
          "execution_count": 4
        }
      ]
    },
    {
      "cell_type": "code",
      "metadata": {
        "colab": {
          "base_uri": "https://localhost:8080/",
          "height": 172
        },
        "id": "EqCOJmXTrvpY",
        "outputId": "7585298f-a93c-4e9d-f525-70e772f9b996"
      },
      "source": [
        "\n",
        "fakenews.describe()"
      ],
      "execution_count": 5,
      "outputs": [
        {
          "output_type": "execute_result",
          "data": {
            "text/html": [
              "<div>\n",
              "<style scoped>\n",
              "    .dataframe tbody tr th:only-of-type {\n",
              "        vertical-align: middle;\n",
              "    }\n",
              "\n",
              "    .dataframe tbody tr th {\n",
              "        vertical-align: top;\n",
              "    }\n",
              "\n",
              "    .dataframe thead th {\n",
              "        text-align: right;\n",
              "    }\n",
              "</style>\n",
              "<table border=\"1\" class=\"dataframe\">\n",
              "  <thead>\n",
              "    <tr style=\"text-align: right;\">\n",
              "      <th></th>\n",
              "      <th>title</th>\n",
              "      <th>text</th>\n",
              "      <th>subject</th>\n",
              "      <th>date</th>\n",
              "    </tr>\n",
              "  </thead>\n",
              "  <tbody>\n",
              "    <tr>\n",
              "      <th>count</th>\n",
              "      <td>21417</td>\n",
              "      <td>21417</td>\n",
              "      <td>21417</td>\n",
              "      <td>21417</td>\n",
              "    </tr>\n",
              "    <tr>\n",
              "      <th>unique</th>\n",
              "      <td>20826</td>\n",
              "      <td>21192</td>\n",
              "      <td>2</td>\n",
              "      <td>716</td>\n",
              "    </tr>\n",
              "    <tr>\n",
              "      <th>top</th>\n",
              "      <td>Factbox: Trump fills top jobs for his administ...</td>\n",
              "      <td>(Reuters) - Highlights for U.S. President Dona...</td>\n",
              "      <td>politicsNews</td>\n",
              "      <td>December 20, 2017</td>\n",
              "    </tr>\n",
              "    <tr>\n",
              "      <th>freq</th>\n",
              "      <td>14</td>\n",
              "      <td>8</td>\n",
              "      <td>11272</td>\n",
              "      <td>182</td>\n",
              "    </tr>\n",
              "  </tbody>\n",
              "</table>\n",
              "</div>"
            ],
            "text/plain": [
              "                                                    title  ...                date\n",
              "count                                               21417  ...               21417\n",
              "unique                                              20826  ...                 716\n",
              "top     Factbox: Trump fills top jobs for his administ...  ...  December 20, 2017 \n",
              "freq                                                   14  ...                 182\n",
              "\n",
              "[4 rows x 4 columns]"
            ]
          },
          "metadata": {
            "tags": []
          },
          "execution_count": 5
        }
      ]
    },
    {
      "cell_type": "code",
      "metadata": {
        "colab": {
          "base_uri": "https://localhost:8080/",
          "height": 172
        },
        "id": "ulqpeBqvr6xo",
        "outputId": "259322dd-4007-46e9-c2d4-38f1354da06a"
      },
      "source": [
        "truenews.describe()"
      ],
      "execution_count": 6,
      "outputs": [
        {
          "output_type": "execute_result",
          "data": {
            "text/html": [
              "<div>\n",
              "<style scoped>\n",
              "    .dataframe tbody tr th:only-of-type {\n",
              "        vertical-align: middle;\n",
              "    }\n",
              "\n",
              "    .dataframe tbody tr th {\n",
              "        vertical-align: top;\n",
              "    }\n",
              "\n",
              "    .dataframe thead th {\n",
              "        text-align: right;\n",
              "    }\n",
              "</style>\n",
              "<table border=\"1\" class=\"dataframe\">\n",
              "  <thead>\n",
              "    <tr style=\"text-align: right;\">\n",
              "      <th></th>\n",
              "      <th>title</th>\n",
              "      <th>text</th>\n",
              "      <th>subject</th>\n",
              "      <th>date</th>\n",
              "    </tr>\n",
              "  </thead>\n",
              "  <tbody>\n",
              "    <tr>\n",
              "      <th>count</th>\n",
              "      <td>23481</td>\n",
              "      <td>23481</td>\n",
              "      <td>23481</td>\n",
              "      <td>23481</td>\n",
              "    </tr>\n",
              "    <tr>\n",
              "      <th>unique</th>\n",
              "      <td>17903</td>\n",
              "      <td>17455</td>\n",
              "      <td>6</td>\n",
              "      <td>1681</td>\n",
              "    </tr>\n",
              "    <tr>\n",
              "      <th>top</th>\n",
              "      <td>MEDIA IGNORES Time That Bill Clinton FIRED His...</td>\n",
              "      <td></td>\n",
              "      <td>News</td>\n",
              "      <td>May 10, 2017</td>\n",
              "    </tr>\n",
              "    <tr>\n",
              "      <th>freq</th>\n",
              "      <td>6</td>\n",
              "      <td>626</td>\n",
              "      <td>9050</td>\n",
              "      <td>46</td>\n",
              "    </tr>\n",
              "  </tbody>\n",
              "</table>\n",
              "</div>"
            ],
            "text/plain": [
              "                                                    title  ...          date\n",
              "count                                               23481  ...         23481\n",
              "unique                                              17903  ...          1681\n",
              "top     MEDIA IGNORES Time That Bill Clinton FIRED His...  ...  May 10, 2017\n",
              "freq                                                    6  ...            46\n",
              "\n",
              "[4 rows x 4 columns]"
            ]
          },
          "metadata": {
            "tags": []
          },
          "execution_count": 6
        }
      ]
    },
    {
      "cell_type": "code",
      "metadata": {
        "id": "Yo42q7DDsTpZ"
      },
      "source": [
        "truenews['True/Fake']='True'\n",
        "fakenews['True/Fake']='Fake'"
      ],
      "execution_count": 7,
      "outputs": []
    },
    {
      "cell_type": "code",
      "metadata": {
        "colab": {
          "base_uri": "https://localhost:8080/",
          "height": 683
        },
        "id": "6uUgBVqCsqdg",
        "outputId": "26ef16f2-18f2-4540-f824-c98ee1540178"
      },
      "source": [
        "news = pd.concat([truenews, fakenews])\n",
        "news[\"Article\"] = news[\"title\"] + news[\"text\"]\n",
        "news.sample(frac = 1)"
      ],
      "execution_count": 8,
      "outputs": [
        {
          "output_type": "execute_result",
          "data": {
            "text/html": [
              "<div>\n",
              "<style scoped>\n",
              "    .dataframe tbody tr th:only-of-type {\n",
              "        vertical-align: middle;\n",
              "    }\n",
              "\n",
              "    .dataframe tbody tr th {\n",
              "        vertical-align: top;\n",
              "    }\n",
              "\n",
              "    .dataframe thead th {\n",
              "        text-align: right;\n",
              "    }\n",
              "</style>\n",
              "<table border=\"1\" class=\"dataframe\">\n",
              "  <thead>\n",
              "    <tr style=\"text-align: right;\">\n",
              "      <th></th>\n",
              "      <th>title</th>\n",
              "      <th>text</th>\n",
              "      <th>subject</th>\n",
              "      <th>date</th>\n",
              "      <th>True/Fake</th>\n",
              "      <th>Article</th>\n",
              "    </tr>\n",
              "  </thead>\n",
              "  <tbody>\n",
              "    <tr>\n",
              "      <th>18127</th>\n",
              "      <td>THE PURGE: NYC Mayor De Blasio to Review ‘All ...</td>\n",
              "      <td>THE PURGE CONTINUES THE NYC MAYOR has just ope...</td>\n",
              "      <td>left-news</td>\n",
              "      <td>Aug 16, 2017</td>\n",
              "      <td>True</td>\n",
              "      <td>THE PURGE: NYC Mayor De Blasio to Review ‘All ...</td>\n",
              "    </tr>\n",
              "    <tr>\n",
              "      <th>9891</th>\n",
              "      <td>Milestones in the Supreme Court immigration case</td>\n",
              "      <td>(Reuters) - The U.S. Supreme Court on Monday h...</td>\n",
              "      <td>politicsNews</td>\n",
              "      <td>April 18, 2016</td>\n",
              "      <td>Fake</td>\n",
              "      <td>Milestones in the Supreme Court immigration ca...</td>\n",
              "    </tr>\n",
              "    <tr>\n",
              "      <th>18725</th>\n",
              "      <td>CAUGHT ON VIDEO: DELTA PILOT Smacks Fighting W...</td>\n",
              "      <td>A video of two women fighting in the jetway an...</td>\n",
              "      <td>left-news</td>\n",
              "      <td>Apr 29, 2017</td>\n",
              "      <td>True</td>\n",
              "      <td>CAUGHT ON VIDEO: DELTA PILOT Smacks Fighting W...</td>\n",
              "    </tr>\n",
              "    <tr>\n",
              "      <th>15529</th>\n",
              "      <td>OBAMA’S REVEALING LETTER TO BROTHER TELLS WHY ...</td>\n",
              "      <td>Well, it s not like we didn t know this but it...</td>\n",
              "      <td>politics</td>\n",
              "      <td>Jun 28, 2015</td>\n",
              "      <td>True</td>\n",
              "      <td>OBAMA’S REVEALING LETTER TO BROTHER TELLS WHY ...</td>\n",
              "    </tr>\n",
              "    <tr>\n",
              "      <th>6816</th>\n",
              "      <td>Biden does not see Trump undoing much of envir...</td>\n",
              "      <td>OTTAWA (Reuters) - U.S. Vice President Joe Bid...</td>\n",
              "      <td>politicsNews</td>\n",
              "      <td>December 9, 2016</td>\n",
              "      <td>Fake</td>\n",
              "      <td>Biden does not see Trump undoing much of envir...</td>\n",
              "    </tr>\n",
              "    <tr>\n",
              "      <th>...</th>\n",
              "      <td>...</td>\n",
              "      <td>...</td>\n",
              "      <td>...</td>\n",
              "      <td>...</td>\n",
              "      <td>...</td>\n",
              "      <td>...</td>\n",
              "    </tr>\n",
              "    <tr>\n",
              "      <th>21227</th>\n",
              "      <td>COMMUNIST FILMMAKER MICHAEL MOORE Recruits Lef...</td>\n",
              "      <td>The despicable anti-free speech, communist clo...</td>\n",
              "      <td>left-news</td>\n",
              "      <td>Dec 12, 2015</td>\n",
              "      <td>True</td>\n",
              "      <td>COMMUNIST FILMMAKER MICHAEL MOORE Recruits Lef...</td>\n",
              "    </tr>\n",
              "    <tr>\n",
              "      <th>2810</th>\n",
              "      <td>WATCH: Bill Maher’s Hilarious Opening Monolog...</td>\n",
              "      <td>Bill Maher is definitely not afraid of Donald ...</td>\n",
              "      <td>News</td>\n",
              "      <td>January 28, 2017</td>\n",
              "      <td>True</td>\n",
              "      <td>WATCH: Bill Maher’s Hilarious Opening Monolog...</td>\n",
              "    </tr>\n",
              "    <tr>\n",
              "      <th>18496</th>\n",
              "      <td>In rare official appearance, Oman's ruler meet...</td>\n",
              "      <td>DUBAI (Reuters) - The ruler of Oman received I...</td>\n",
              "      <td>worldnews</td>\n",
              "      <td>October 2, 2017</td>\n",
              "      <td>Fake</td>\n",
              "      <td>In rare official appearance, Oman's ruler meet...</td>\n",
              "    </tr>\n",
              "    <tr>\n",
              "      <th>9715</th>\n",
              "      <td>HILLARY FINALLY Makes Statement On Sexual Pred...</td>\n",
              "      <td>After several days of silence, Hillary Clinton...</td>\n",
              "      <td>politics</td>\n",
              "      <td>Oct 10, 2017</td>\n",
              "      <td>True</td>\n",
              "      <td>HILLARY FINALLY Makes Statement On Sexual Pred...</td>\n",
              "    </tr>\n",
              "    <tr>\n",
              "      <th>11366</th>\n",
              "      <td>Turkey to restore Sudanese Red Sea port and bu...</td>\n",
              "      <td>ISTANBUL/KHARTOUM (Reuters) - Turkey will rebu...</td>\n",
              "      <td>worldnews</td>\n",
              "      <td>December 26, 2017</td>\n",
              "      <td>Fake</td>\n",
              "      <td>Turkey to restore Sudanese Red Sea port and bu...</td>\n",
              "    </tr>\n",
              "  </tbody>\n",
              "</table>\n",
              "<p>44898 rows × 6 columns</p>\n",
              "</div>"
            ],
            "text/plain": [
              "                                                   title  ...                                            Article\n",
              "18127  THE PURGE: NYC Mayor De Blasio to Review ‘All ...  ...  THE PURGE: NYC Mayor De Blasio to Review ‘All ...\n",
              "9891    Milestones in the Supreme Court immigration case  ...  Milestones in the Supreme Court immigration ca...\n",
              "18725  CAUGHT ON VIDEO: DELTA PILOT Smacks Fighting W...  ...  CAUGHT ON VIDEO: DELTA PILOT Smacks Fighting W...\n",
              "15529  OBAMA’S REVEALING LETTER TO BROTHER TELLS WHY ...  ...  OBAMA’S REVEALING LETTER TO BROTHER TELLS WHY ...\n",
              "6816   Biden does not see Trump undoing much of envir...  ...  Biden does not see Trump undoing much of envir...\n",
              "...                                                  ...  ...                                                ...\n",
              "21227  COMMUNIST FILMMAKER MICHAEL MOORE Recruits Lef...  ...  COMMUNIST FILMMAKER MICHAEL MOORE Recruits Lef...\n",
              "2810    WATCH: Bill Maher’s Hilarious Opening Monolog...  ...   WATCH: Bill Maher’s Hilarious Opening Monolog...\n",
              "18496  In rare official appearance, Oman's ruler meet...  ...  In rare official appearance, Oman's ruler meet...\n",
              "9715   HILLARY FINALLY Makes Statement On Sexual Pred...  ...  HILLARY FINALLY Makes Statement On Sexual Pred...\n",
              "11366  Turkey to restore Sudanese Red Sea port and bu...  ...  Turkey to restore Sudanese Red Sea port and bu...\n",
              "\n",
              "[44898 rows x 6 columns]"
            ]
          },
          "metadata": {
            "tags": []
          },
          "execution_count": 8
        }
      ]
    },
    {
      "cell_type": "code",
      "metadata": {
        "id": "QbfPOxt7suLb"
      },
      "source": [
        "from nltk.corpus import stopwords\n",
        "import string"
      ],
      "execution_count": 14,
      "outputs": []
    },
    {
      "cell_type": "code",
      "metadata": {
        "id": "cykUso_Ws9eQ"
      },
      "source": [
        "def process_text(s):\n",
        "\n",
        "    nopunc = [char for char in s if char not in string.punctuation]\n",
        "\n",
        "    nopunc = ''.join(nopunc)\n",
        "    \n",
        "    clean_string = [word for word in nopunc.split() if word.lower() not in stopwords.words('english')]\n",
        "    return clean_string"
      ],
      "execution_count": 15,
      "outputs": []
    },
    {
      "cell_type": "code",
      "metadata": {
        "colab": {
          "base_uri": "https://localhost:8080/",
          "height": 319
        },
        "id": "MXOOkG5ttfSP",
        "outputId": "5a45467b-6026-4c43-e044-6809a69d16ff"
      },
      "source": [
        "\n",
        "news.sample(5)"
      ],
      "execution_count": 9,
      "outputs": [
        {
          "output_type": "execute_result",
          "data": {
            "text/html": [
              "<div>\n",
              "<style scoped>\n",
              "    .dataframe tbody tr th:only-of-type {\n",
              "        vertical-align: middle;\n",
              "    }\n",
              "\n",
              "    .dataframe tbody tr th {\n",
              "        vertical-align: top;\n",
              "    }\n",
              "\n",
              "    .dataframe thead th {\n",
              "        text-align: right;\n",
              "    }\n",
              "</style>\n",
              "<table border=\"1\" class=\"dataframe\">\n",
              "  <thead>\n",
              "    <tr style=\"text-align: right;\">\n",
              "      <th></th>\n",
              "      <th>title</th>\n",
              "      <th>text</th>\n",
              "      <th>subject</th>\n",
              "      <th>date</th>\n",
              "      <th>True/Fake</th>\n",
              "      <th>Article</th>\n",
              "    </tr>\n",
              "  </thead>\n",
              "  <tbody>\n",
              "    <tr>\n",
              "      <th>2614</th>\n",
              "      <td>PA Senator Issues An EPIC Challenge To Trump ...</td>\n",
              "      <td>Recently, Donald Trump shocked even his critic...</td>\n",
              "      <td>News</td>\n",
              "      <td>February 9, 2017</td>\n",
              "      <td>True</td>\n",
              "      <td>PA Senator Issues An EPIC Challenge To Trump ...</td>\n",
              "    </tr>\n",
              "    <tr>\n",
              "      <th>4719</th>\n",
              "      <td>Trump Just Gave The Most BIZARRE Response For...</td>\n",
              "      <td>Audience members and viewers watching MSNBC s ...</td>\n",
              "      <td>News</td>\n",
              "      <td>September 8, 2016</td>\n",
              "      <td>True</td>\n",
              "      <td>Trump Just Gave The Most BIZARRE Response For...</td>\n",
              "    </tr>\n",
              "    <tr>\n",
              "      <th>14623</th>\n",
              "      <td>ARRESTED: Cops Tell Shocking Story Of Domestic...</td>\n",
              "      <td>Are the Palin s above the law in Alaska? Will ...</td>\n",
              "      <td>politics</td>\n",
              "      <td>Jan 20, 2016</td>\n",
              "      <td>True</td>\n",
              "      <td>ARRESTED: Cops Tell Shocking Story Of Domestic...</td>\n",
              "    </tr>\n",
              "    <tr>\n",
              "      <th>17913</th>\n",
              "      <td>Vaccination begins in Bangladesh camps to head...</td>\n",
              "      <td>COX S BAZAR, Bangladesh (Reuters) - The World ...</td>\n",
              "      <td>worldnews</td>\n",
              "      <td>October 10, 2017</td>\n",
              "      <td>Fake</td>\n",
              "      <td>Vaccination begins in Bangladesh camps to head...</td>\n",
              "    </tr>\n",
              "    <tr>\n",
              "      <th>9754</th>\n",
              "      <td>WATCH: DIVISIVE FORMER First Lady MICHELLE OBA...</td>\n",
              "      <td>Michelle Obama is hands-down, the most divisiv...</td>\n",
              "      <td>politics</td>\n",
              "      <td>Oct 4, 2017</td>\n",
              "      <td>True</td>\n",
              "      <td>WATCH: DIVISIVE FORMER First Lady MICHELLE OBA...</td>\n",
              "    </tr>\n",
              "  </tbody>\n",
              "</table>\n",
              "</div>"
            ],
            "text/plain": [
              "                                                   title  ...                                            Article\n",
              "2614    PA Senator Issues An EPIC Challenge To Trump ...  ...   PA Senator Issues An EPIC Challenge To Trump ...\n",
              "4719    Trump Just Gave The Most BIZARRE Response For...  ...   Trump Just Gave The Most BIZARRE Response For...\n",
              "14623  ARRESTED: Cops Tell Shocking Story Of Domestic...  ...  ARRESTED: Cops Tell Shocking Story Of Domestic...\n",
              "17913  Vaccination begins in Bangladesh camps to head...  ...  Vaccination begins in Bangladesh camps to head...\n",
              "9754   WATCH: DIVISIVE FORMER First Lady MICHELLE OBA...  ...  WATCH: DIVISIVE FORMER First Lady MICHELLE OBA...\n",
              "\n",
              "[5 rows x 6 columns]"
            ]
          },
          "metadata": {
            "tags": []
          },
          "execution_count": 9
        }
      ]
    },
    {
      "cell_type": "code",
      "metadata": {
        "id": "9ZXjSqaxuF_l"
      },
      "source": [
        "from sklearn.feature_extraction.text import CountVectorizer"
      ],
      "execution_count": 13,
      "outputs": []
    },
    {
      "cell_type": "code",
      "metadata": {
        "id": "0sLK96bfJVzU"
      },
      "source": [
        "bow_transformer = CountVectorizer(analyzer=process_text).fit(news['Clean Text'])\n",
        "\n",
        "print(len(bow_transformer.vocabulary_))"
      ],
      "execution_count": null,
      "outputs": []
    },
    {
      "cell_type": "code",
      "metadata": {
        "id": "XHDiKkynL4ss"
      },
      "source": [
        "news_bow = bow_transformer.transform(news['Clean Text'])"
      ],
      "execution_count": null,
      "outputs": []
    },
    {
      "cell_type": "code",
      "metadata": {
        "id": "s3t4-mCEL9Z6"
      },
      "source": [
        "print('Shape of Sparse Matrix: ', news_bow.shape)\n",
        "print('Amount of Non-Zero occurences: ', news_bow.nnz)"
      ],
      "execution_count": null,
      "outputs": []
    },
    {
      "cell_type": "code",
      "metadata": {
        "id": "jUT6wECK7mUr"
      },
      "source": [
        "sparsity = (100.0 * news_bow.nnz / (news_bow.shape[0] * news_bow.shape[1]))\n",
        "print('sparsity: {}'.format(round(sparsity)))"
      ],
      "execution_count": null,
      "outputs": []
    },
    {
      "cell_type": "code",
      "metadata": {
        "id": "NRnuEdob_hMV"
      },
      "source": [
        "from sklearn.naive_bayes import MultinomialNB\n",
        "fakenews_detect_model = MultinomialNB().fit(news_tfidf, news['True/Fake'])"
      ],
      "execution_count": null,
      "outputs": []
    },
    {
      "cell_type": "code",
      "metadata": {
        "id": "CI_UkzOqMCLU"
      },
      "source": [
        "from sklearn.feature_extraction.text import TfidfTransformer\n",
        "\n",
        "tfidf_transformer = TfidfTransformer().fit(news_bow)\n",
        "news_tfidf = tfidf_transformer.transform(news_bow)\n",
        "print(news_tfidf.shape)"
      ],
      "execution_count": null,
      "outputs": []
    },
    {
      "cell_type": "code",
      "metadata": {
        "id": "bMkqyzvt_rvH"
      },
      "source": [
        "predictions = fakenews_detect_model.predict(news_tfidf)\n",
        "print(predictions)"
      ],
      "execution_count": null,
      "outputs": []
    },
    {
      "cell_type": "code",
      "metadata": {
        "id": "fNAb19bW_x49"
      },
      "source": [
        "from sklearn.metrics import classification_report\n",
        "print (classification_report(news['True/Fake'], predictions))"
      ],
      "execution_count": null,
      "outputs": []
    },
    {
      "cell_type": "code",
      "metadata": {
        "id": "LWUr4zknAyOl"
      },
      "source": [
        "from sklearn.cross_validation import train_test_split\n",
        "\n",
        "news_train, news_test, text_train, text_test = train_test_split(news['Article'], news['True/Fake'], test_size=0.3)\n",
        "\n",
        "print(len(news_train), len(news_test), len(news_train) + len(news_test))"
      ],
      "execution_count": null,
      "outputs": []
    },
    {
      "cell_type": "code",
      "metadata": {
        "id": "4n5VJTNiA0lW"
      },
      "source": [
        "from sklearn.pipeline import Pipeline\n",
        "\n",
        "pipeline = Pipeline([\n",
        "    ('bow', CountVectorizer(analyzer=process_text)),  # strings to token integer counts\n",
        "    ('tfidf', TfidfTransformer()),  # integer counts to weighted TF-IDF scores\n",
        "    ('classifier', MultinomialNB()),  # train on TF-IDF vectors w/ Naive Bayes classifier\n",
        "])\n",
        "pipeline.fit(news_train,text_train)"
      ],
      "execution_count": null,
      "outputs": []
    },
    {
      "cell_type": "code",
      "metadata": {
        "id": "On6jHEaSBEjW"
      },
      "source": [
        "\n",
        "predictions = pipeline.predict(news_test)"
      ],
      "execution_count": null,
      "outputs": []
    },
    {
      "cell_type": "code",
      "metadata": {
        "id": "3L0cZ0MvBLW3"
      },
      "source": [
        "\n",
        "print(classification_report(predictions,text_test))"
      ],
      "execution_count": null,
      "outputs": []
    }
  ]
}